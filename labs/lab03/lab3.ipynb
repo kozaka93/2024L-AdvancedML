{
 "cells": [
  {
   "cell_type": "markdown",
   "metadata": {},
   "source": [
    "### Zaawansowane Metody Uczenia Maszynowego"
   ]
  },
  {
   "cell_type": "markdown",
   "metadata": {},
   "source": [
    "*Środowisko z poprzednich zajęć*"
   ]
  },
  {
   "cell_type": "code",
   "execution_count": null,
   "metadata": {},
   "outputs": [],
   "source": [
    "import pandas as pd\n",
    "import numpy as np\n",
    "import seaborn as sns\n",
    "diamonds = sns.load_dataset(\"diamonds\")\n",
    "diamonds = pd.DataFrame(diamonds)\n",
    "\n",
    "diamonds = diamonds[diamonds[\"cut\"] != \"Very Good\"]\n",
    "\n",
    "from sklearn.compose import ColumnTransformer\n",
    "from sklearn.pipeline import Pipeline\n",
    "from sklearn.preprocessing import OneHotEncoder, PowerTransformer, StandardScaler\n",
    "from sklearn.linear_model import LogisticRegression\n",
    "\n",
    "preprocesor = ColumnTransformer(\n",
    "    transformers=[\n",
    "        (\"categorical\", OneHotEncoder(handle_unknown=\"ignore\"), [\"color\", \"clarity\"]),\n",
    "        (\"power_transform\", PowerTransformer(), [\"price\", \"carat\"]),\n",
    "        (\"scale\", StandardScaler(), [\"x\", \"y\", \"z\", \"depth\", \"table\", \"price\", \"carat\"])\n",
    "    ]\n",
    ")\n",
    "\n",
    "pipeline = Pipeline(\n",
    "    steps=[\n",
    "        (\"preprocess\", preprocesor),\n",
    "        (\"model\", LogisticRegression(max_iter=2000))\n",
    "    ]\n",
    ")\n",
    "\n",
    "\n",
    "y = diamonds.cut\n",
    "X = diamonds.drop([\"cut\"], axis=1)\n",
    "\n",
    "from sklearn.model_selection import train_test_split\n",
    "X_train, X_test, y_train, y_test = train_test_split(X, y, test_size=0.25, random_state=123)\n",
    "\n",
    "pipeline.fit(X_train, y_train)\n",
    "\n",
    "y_pred = pipeline.predict(X_test)\n",
    "\n",
    "from sklearn.metrics import confusion_matrix, ConfusionMatrixDisplay\n",
    "\n",
    "cm = confusion_matrix(y_test, y_pred)\n",
    "cm"
   ]
  },
  {
   "cell_type": "code",
   "execution_count": null,
   "metadata": {},
   "outputs": [],
   "source": [
    "disp = ConfusionMatrixDisplay(confusion_matrix=cm,\n",
    "                              display_labels=pipeline.classes_)\n",
    "disp.plot()"
   ]
  },
  {
   "cell_type": "code",
   "execution_count": null,
   "metadata": {},
   "outputs": [],
   "source": [
    "y_score = pipeline.predict_proba(X_test)"
   ]
  },
  {
   "cell_type": "code",
   "execution_count": null,
   "metadata": {},
   "outputs": [],
   "source": [
    "from sklearn.preprocessing import LabelBinarizer\n",
    "\n",
    "label_binarizer = LabelBinarizer().fit(y_train)\n",
    "y_onehot_test = label_binarizer.transform(y_test)\n",
    "y_onehot_test.shape  # (n_samples, n_classes)"
   ]
  },
  {
   "cell_type": "code",
   "execution_count": null,
   "metadata": {},
   "outputs": [],
   "source": [
    "class_of_interest = \"Good\"\n",
    "class_id = np.flatnonzero(label_binarizer.classes_ == class_of_interest)[0]\n",
    "class_id"
   ]
  },
  {
   "cell_type": "code",
   "execution_count": null,
   "metadata": {},
   "outputs": [],
   "source": [
    "import matplotlib.pyplot as plt\n",
    "from sklearn.metrics import RocCurveDisplay\n",
    "\n",
    "display = RocCurveDisplay.from_predictions(\n",
    "    y_onehot_test[:, class_id],\n",
    "    y_score[:, class_id],\n",
    "    name=f\"{class_of_interest} vs the rest\",\n",
    "    color=\"darkorange\",\n",
    "    plot_chance_level=True,\n",
    ")\n",
    "_ = display.ax_.set(\n",
    "    xlabel=\"False Positive Rate\",\n",
    "    ylabel=\"True Positive Rate\",\n",
    "    title=\"One-vs-Rest ROC curves:\\nGood vs Other\",\n",
    ")"
   ]
  },
  {
   "cell_type": "markdown",
   "metadata": {},
   "source": [
    "https://scikit-learn.org/stable/auto_examples/model_selection/plot_roc.html"
   ]
  },
  {
   "cell_type": "code",
   "execution_count": null,
   "metadata": {},
   "outputs": [],
   "source": []
  },
  {
   "cell_type": "markdown",
   "metadata": {},
   "source": [
    "#### Laboratorium 3\n",
    "*Inspirowane materiałami Kamila Kmity.*"
   ]
  },
  {
   "cell_type": "code",
   "execution_count": null,
   "metadata": {},
   "outputs": [],
   "source": [
    "import matplotlib.pyplot as plt\n",
    "import numpy as np\n",
    "import pandas as pd\n",
    "import seaborn as sns\n",
    "\n",
    "import tensorflow as tf\n",
    "\n",
    "from tensorflow import keras\n",
    "from tensorflow.keras import layers"
   ]
  },
  {
   "cell_type": "code",
   "execution_count": null,
   "metadata": {},
   "outputs": [],
   "source": [
    "rng = np.random.default_rng(2024)"
   ]
  },
  {
   "cell_type": "markdown",
   "metadata": {},
   "source": [
    "### Zadanie 1\n",
    "----\n",
    "Wygeneruj $200$ obserwacji pseudolosowych takich, że\n",
    "\n",
    "\\begin{equation}\n",
    "Y = \\beta_0 + \\beta_1 \\cdot X_1 + \\beta_2 \\cdot X_2 + \\beta_3 \\cdot X_3 + \\epsilon,\n",
    "\\end{equation}\n",
    "\n",
    "gdzie\n",
    "\n",
    "* $\\beta = (50, -2, 2.25, 3)$,\n",
    "* $X_1 \\sim \\mathcal{N}(98, 10)$,\n",
    "* $X_2 \\sim \\mathcal{N}(50, 5)$,\n",
    "* $X_3 \\sim \\mathcal{N}(231, 12)$,\n",
    "* $\\epsilon \\sim \\mathcal{N}(0, 4.75)$.\n",
    "\n",
    "[Jak losować liczby w `numpy`.](https://numpy.org/doc/stable/reference/random/generator.html)\n"
   ]
  },
  {
   "cell_type": "code",
   "execution_count": null,
   "metadata": {},
   "outputs": [],
   "source": []
  },
  {
   "cell_type": "code",
   "execution_count": null,
   "metadata": {},
   "outputs": [],
   "source": []
  },
  {
   "cell_type": "code",
   "execution_count": null,
   "metadata": {},
   "outputs": [],
   "source": []
  },
  {
   "cell_type": "markdown",
   "metadata": {},
   "source": [
    "### Regresja liniowa"
   ]
  },
  {
   "cell_type": "markdown",
   "metadata": {},
   "source": [
    "Cel: znalezienie optymalnego wektora parametrów\n",
    " $\\beta = (\\beta_0, \\beta_1, \\ldots, \\beta_p)^T$.\n",
    "\n",
    "W tym celu definiujemy funkcję ryzyka $L(\\beta)$ i szukamy\n",
    "\n",
    "$$\n",
    "\\begin{equation}\n",
    "\\hat{\\beta} = \\underset{\\beta}{\\text{arg min}} \\quad\n",
    "L(\\beta)\n",
    "\\end{equation}\n",
    "$$\n",
    "\n",
    "Powszechnie stosowana funkcja ryzyka\n",
    "([o przydatnych statystycznie właściwościach](https://en.wikipedia.org/wiki/Ordinary_least_squares#Properties)) to *Mean Squared Error* MSE\n",
    "\n",
    "$$\n",
    "\\begin{align}\n",
    "L(\\beta) &= \\text{MSE}(\\beta; X, y)\\\\\n",
    "&= \\sum\\limits_{i=1}^n (\\hat{y}_i - y_i)^2 \\\\\n",
    "&= \\sum\\limits_{i=1}^n ({\\beta} \\mathbf{x}_i - y_i)^2\n",
    "\\qquad \\text{where }\\mathbf{x}_i \\in R^p\n",
    "\\\\\n",
    "&= {\\lVert X {\\beta} - Y \\rVert}^2\n",
    "= (X {\\beta} - Y)^T (X {\\beta} - Y)\n",
    "\\end{align}\n",
    "$$\n",
    "\n",
    "Jak wyznaczyć $\\hat{\\beta}$?"
   ]
  },
  {
   "cell_type": "markdown",
   "metadata": {},
   "source": []
  },
  {
   "cell_type": "markdown",
   "metadata": {},
   "source": [
    "### Zadanie 2\n",
    "----\n",
    "Zaimplementuj klasę `Regression` z metodą `fit` i dopasuj model regresji liniowej do wysymulowanych danych `data`."
   ]
  },
  {
   "cell_type": "markdown",
   "metadata": {},
   "source": [
    "Szkielet rozwiązania\n",
    "\n",
    "```python\n",
    "class Regression:\n",
    "    def __init__(self, ...)\n",
    "        self.weights = None\n",
    "        ...\n",
    "\n",
    "    def fit(self, X, y):\n",
    "        ...\n",
    "```"
   ]
  },
  {
   "cell_type": "markdown",
   "metadata": {},
   "source": [
    "### Zadanie 3\n",
    "---\n",
    "W powyższym przykładzie nie zawarliśmy wyrazu wolnego *intercept* . Możemy dołączyć wyraz wolny poprzez rozszerzenie macierzy:\n",
    "\n",
    "$X := [\\mathbf{1} | X]$,\n",
    "\n",
    "Zmodyfikuj metody `__init__` oraz `fit` klasy `Regression` tak, żeby użytkownik miał wybór: użyć intercept lub nie."
   ]
  },
  {
   "cell_type": "markdown",
   "metadata": {},
   "source": [
    "Szkielet rozwiązania\n",
    "\n",
    "```python\n",
    "class Regression:\n",
    "    def __init__(self, intercept=False)\n",
    "        self.weights = None\n",
    "        self.intercept = intercept\n",
    "\n",
    "    def fit(self, X, y):\n",
    "        if self.intercept:\n",
    "            pass\n",
    "        pass\n",
    "```"
   ]
  },
  {
   "cell_type": "code",
   "execution_count": null,
   "metadata": {},
   "outputs": [],
   "source": []
  },
  {
   "cell_type": "markdown",
   "metadata": {},
   "source": [
    "## Reprezentacja regresji liniowej jako prostej sieci neuronowej"
   ]
  },
  {
   "cell_type": "markdown",
   "metadata": {},
   "source": [
    "*Note*\n",
    "[Zapoznaj się z krótkim wprowadzeniem do `Keras`.](https://keras.io/about/)"
   ]
  },
  {
   "cell_type": "markdown",
   "metadata": {},
   "source": [
    "### Zadanie 4\n",
    "Zaimplementuj model regresji używając sieci neuronowej."
   ]
  },
  {
   "cell_type": "markdown",
   "metadata": {},
   "source": [
    "W modelu:\n",
    "* $x$ to wektor kolumnowy `[[X1], [X2], [X3]]` (czyli macierz `np.array` o wymiarze 3x1),\n",
    "* $W$ = `[[w1, w2, w3]]` to macierz o wymiarze 1x3,\n",
    "* $b \\in R$,\n",
    "* $z=Wx + b$ to warstwa typu `tf.keras.layers.Dense`,\n",
    "* funkcja aktywacji $\\sigma = Id$, co zapewnia nam model liniowy.\n",
    "\n",
    "Utwórz model `model1` korzystając z biblioteki `Keras`, korzystając ze szkieletu poniżej. Korzystaj z *Sequential API*."
   ]
  },
  {
   "cell_type": "markdown",
   "metadata": {},
   "source": [
    "```python\n",
    "model1 = ...\n",
    "\n",
    "model1.add(tf.keras.Input(shape=...))\n",
    "\n",
    "model1.add(\n",
    "    tf.keras.layers.Dense(\n",
    "        ..., \n",
    "        activation=...\n",
    "    )\n",
    ")\n",
    "```"
   ]
  },
  {
   "cell_type": "code",
   "execution_count": null,
   "metadata": {},
   "outputs": [],
   "source": []
  },
  {
   "cell_type": "code",
   "execution_count": null,
   "metadata": {},
   "outputs": [],
   "source": []
  },
  {
   "cell_type": "code",
   "execution_count": null,
   "metadata": {},
   "outputs": [],
   "source": []
  },
  {
   "cell_type": "code",
   "execution_count": null,
   "metadata": {},
   "outputs": [],
   "source": []
  }
 ],
 "metadata": {
  "kernelspec": {
   "display_name": "base",
   "language": "python",
   "name": "python3"
  },
  "language_info": {
   "codemirror_mode": {
    "name": "ipython",
    "version": 3
   },
   "file_extension": ".py",
   "mimetype": "text/x-python",
   "name": "python",
   "nbconvert_exporter": "python",
   "pygments_lexer": "ipython3",
   "version": "3.11.4"
  }
 },
 "nbformat": 4,
 "nbformat_minor": 2
}
