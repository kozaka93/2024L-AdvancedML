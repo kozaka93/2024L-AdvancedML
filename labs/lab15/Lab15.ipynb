{
 "cells": [
  {
   "cell_type": "markdown",
   "metadata": {},
   "source": [
    "### Import packages and load dataset ###"
   ]
  },
  {
   "cell_type": "code",
   "execution_count": 29,
   "metadata": {},
   "outputs": [],
   "source": [
    "from sklearn.datasets import load_breast_cancer\n",
    "from sklearn.metrics import accuracy_score\n",
    "from sklearn.model_selection import train_test_split\n",
    "import numpy as np\n",
    "from sklearn.linear_model import LogisticRegression\n",
    "\n",
    "# Load data:\n",
    "data = load_breast_cancer()\n",
    "Xall = data.data\n",
    "yall = data.target\n",
    "\n",
    "# Train/test split:\n",
    "X, Xtest, y, ytest = train_test_split(Xall, yall, test_size=0.25, random_state=123)"
   ]
  },
  {
   "cell_type": "markdown",
   "metadata": {},
   "source": [
    "### Create PU training data ###\n",
    "\n",
    "1. y occurence of disease (y=1 present, y=0 absent)\n",
    "2. s information of diagnosed disease (s=1 diagnosed, s=0 undiagnosed)\n",
    "3. We do not observe y in our training data, we only have an access to the s variable."
   ]
  },
  {
   "cell_type": "code",
   "execution_count": 30,
   "metadata": {},
   "outputs": [],
   "source": [
    "c = 0.5 #true label frequency P(S=1|Y=1): probabiliy of being labelled for positive example\n",
    "n = X.shape[0]\n",
    "s = np.zeros(n)\n",
    "\n",
    "for i in np.arange(0,n,1):\n",
    "    if y[i]==1:\n",
    "        s[i]=np.random.binomial(1, c, size=1)\n",
    "\n"
   ]
  },
  {
   "cell_type": "markdown",
   "metadata": {},
   "source": [
    "### Methods ###"
   ]
  },
  {
   "cell_type": "code",
   "execution_count": 31,
   "metadata": {},
   "outputs": [
    {
     "name": "stdout",
     "output_type": "stream",
     "text": [
      "Accuracy for oracle method: 0.986 \n",
      "\n",
      "Accuracy for naive method: 0.6783 \n",
      "\n",
      "Accuracy for calibrated method: 0.9441 \n",
      "\n",
      "Accuracy for calibrated method wit estimated c: 0.8531 \n",
      "\n"
     ]
    },
    {
     "name": "stderr",
     "output_type": "stream",
     "text": [
      "c:\\anaconda\\Lib\\site-packages\\sklearn\\linear_model\\_logistic.py:460: ConvergenceWarning: lbfgs failed to converge (status=1):\n",
      "STOP: TOTAL NO. of ITERATIONS REACHED LIMIT.\n",
      "\n",
      "Increase the number of iterations (max_iter) or scale the data as shown in:\n",
      "    https://scikit-learn.org/stable/modules/preprocessing.html\n",
      "Please also refer to the documentation for alternative solver options:\n",
      "    https://scikit-learn.org/stable/modules/linear_model.html#logistic-regression\n",
      "  n_iter_i = _check_optimize_result(\n",
      "c:\\anaconda\\Lib\\site-packages\\sklearn\\linear_model\\_logistic.py:460: ConvergenceWarning: lbfgs failed to converge (status=1):\n",
      "STOP: TOTAL NO. of ITERATIONS REACHED LIMIT.\n",
      "\n",
      "Increase the number of iterations (max_iter) or scale the data as shown in:\n",
      "    https://scikit-learn.org/stable/modules/preprocessing.html\n",
      "Please also refer to the documentation for alternative solver options:\n",
      "    https://scikit-learn.org/stable/modules/linear_model.html#logistic-regression\n",
      "  n_iter_i = _check_optimize_result(\n",
      "c:\\anaconda\\Lib\\site-packages\\sklearn\\linear_model\\_logistic.py:460: ConvergenceWarning: lbfgs failed to converge (status=1):\n",
      "STOP: TOTAL NO. of ITERATIONS REACHED LIMIT.\n",
      "\n",
      "Increase the number of iterations (max_iter) or scale the data as shown in:\n",
      "    https://scikit-learn.org/stable/modules/preprocessing.html\n",
      "Please also refer to the documentation for alternative solver options:\n",
      "    https://scikit-learn.org/stable/modules/linear_model.html#logistic-regression\n",
      "  n_iter_i = _check_optimize_result(\n",
      "c:\\anaconda\\Lib\\site-packages\\sklearn\\linear_model\\_logistic.py:460: ConvergenceWarning: lbfgs failed to converge (status=1):\n",
      "STOP: TOTAL NO. of ITERATIONS REACHED LIMIT.\n",
      "\n",
      "Increase the number of iterations (max_iter) or scale the data as shown in:\n",
      "    https://scikit-learn.org/stable/modules/preprocessing.html\n",
      "Please also refer to the documentation for alternative solver options:\n",
      "    https://scikit-learn.org/stable/modules/linear_model.html#logistic-regression\n",
      "  n_iter_i = _check_optimize_result(\n"
     ]
    }
   ],
   "source": [
    "#Oracle method (assumes the knowledge of true class variable Y)\n",
    "model = LogisticRegression()\n",
    "model.fit(X,y)\n",
    "prob_y_test = model.predict_proba(Xtest)[:,1] \n",
    "acc = accuracy_score(ytest, np.where(prob_y_test>0.5,1,0))\n",
    "print(\"Accuracy for oracle method:\",np.round(acc,4),\"\\n\")\n",
    "\n",
    "#Naive method (treats unlabelled examples as negative)\n",
    "model = LogisticRegression()\n",
    "model.fit(X,s)\n",
    "prob_y_test = model.predict_proba(Xtest)[:,1] \n",
    "acc = accuracy_score(ytest, np.where(prob_y_test>0.5,1,0))\n",
    "print(\"Accuracy for naive method:\",np.round(acc,4),\"\\n\")\n",
    "\n",
    "#Method assuming the knowledge of class prior P(Y=1) (prevalence of a disease)\n",
    "alpha = np.mean(y)\n",
    "hat_c = np.mean(s)/alpha\n",
    "model = LogisticRegression()\n",
    "model.fit(X,s)\n",
    "prob_y_test_naive = model.predict_proba(Xtest)[:,1]\n",
    "prob_y_test = prob_y_test_naive/hat_c\n",
    "acc = accuracy_score(ytest, np.where(prob_y_test>0.5,1,0))\n",
    "print(\"Accuracy for calibrated method based on known class prior:\",np.round(acc,4),\"\\n\")\n",
    "\n",
    "\n",
    "#Method based on simple estimator of c:\n",
    "model = LogisticRegression()\n",
    "model.fit(X,s)\n",
    "prob_y_train = model.predict_proba(X)[:,1]\n",
    "hat_c = np.max(prob_y_train)\n",
    "prob_y_test_naive = model.predict_proba(Xtest)[:,1]\n",
    "prob_y_test = prob_y_test_naive/hat_c\n",
    "acc = accuracy_score(ytest, np.where(prob_y_test>0.5,1,0))\n",
    "print(\"Accuracy for calibrated method with estimated c:\",np.round(acc,4),\"\\n\")"
   ]
  },
  {
   "cell_type": "markdown",
   "metadata": {},
   "source": [
    "### Aditional tasks ###\n",
    "\n",
    "1. Change c =0.1, 0.2, 0.8, 0.9 and repeat the above steps\n",
    "2. Repeat the experiments for other datasets\n",
    "3. [Optional] Create PU dataset in which probability of labelling positive example depend on feature vector"
   ]
  }
 ],
 "metadata": {
  "kernelspec": {
   "display_name": "base",
   "language": "python",
   "name": "python3"
  },
  "language_info": {
   "codemirror_mode": {
    "name": "ipython",
    "version": 3
   },
   "file_extension": ".py",
   "mimetype": "text/x-python",
   "name": "python",
   "nbconvert_exporter": "python",
   "pygments_lexer": "ipython3",
   "version": "3.11.5"
  }
 },
 "nbformat": 4,
 "nbformat_minor": 2
}
