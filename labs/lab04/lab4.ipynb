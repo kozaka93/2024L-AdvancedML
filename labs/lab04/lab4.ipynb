{
 "cells": [
  {
   "cell_type": "markdown",
   "metadata": {},
   "source": [
    "### Zaawansowane Metody Uczenia Maszynowego"
   ]
  },
  {
   "cell_type": "markdown",
   "metadata": {},
   "source": [
    "[Problem ekspoludjącego gradientu](https://en.wikipedia.org/wiki/Vanishing_gradient_problem)"
   ]
  },
  {
   "cell_type": "markdown",
   "metadata": {},
   "source": [
    "#### Laboratorium 4"
   ]
  },
  {
   "cell_type": "markdown",
   "metadata": {},
   "source": [
    "### Implementacja modelu regresji logistycznej z IRLS"
   ]
  },
  {
   "cell_type": "code",
   "execution_count": 8,
   "metadata": {},
   "outputs": [],
   "source": [
    "from sklearn.datasets import make_classification\n",
    "from numpy.linalg import inv\n",
    "import pandas as pd\n",
    "import numpy as np\n",
    "\n",
    "X, y = make_classification(random_state=42, n_samples=1000, n_features=8)"
   ]
  },
  {
   "cell_type": "markdown",
   "metadata": {},
   "source": [
    "### Zadanie 1\n",
    "----\n",
    "Przygotuj funkcję `sigmoid`."
   ]
  },
  {
   "cell_type": "code",
   "execution_count": 75,
   "metadata": {},
   "outputs": [],
   "source": [
    "def sigmoid(x):\n",
    "    ..."
   ]
  },
  {
   "cell_type": "markdown",
   "metadata": {},
   "source": [
    "### Zadanie 2\n",
    "---\n",
    "Przygotuj funkcję `cross_entropy_loss`."
   ]
  },
  {
   "cell_type": "code",
   "execution_count": 76,
   "metadata": {},
   "outputs": [],
   "source": [
    "def cross_entropy_loss(y_true, y_pred, clip_val = 1e-10):\n",
    "    ..."
   ]
  },
  {
   "cell_type": "markdown",
   "metadata": {},
   "source": [
    "### Zadanie 3\n",
    "----\n",
    "Przygotuj funkcję `transform_X`, która dla danej macierzy X doda pierwszą kolumnę zawierającą 1."
   ]
  },
  {
   "cell_type": "code",
   "execution_count": null,
   "metadata": {},
   "outputs": [],
   "source": [
    "def transform_X(X):\n",
    "    ...\n",
    "    "
   ]
  },
  {
   "cell_type": "markdown",
   "metadata": {},
   "source": [
    "### Zadanie 4\n",
    "---\n",
    "Przygotuj funkcję `transform_y`, która przekształci wektor y na tablicę array."
   ]
  },
  {
   "cell_type": "code",
   "execution_count": null,
   "metadata": {},
   "outputs": [],
   "source": [
    "def transform_y(y):\n",
    "    ...\n"
   ]
  },
  {
   "cell_type": "markdown",
   "metadata": {},
   "source": [
    "### Iteratively Reweighted Least Squares (IRLS)\n",
    "*maximum likelihood method*\n",
    "\n",
    "Używając metody Raphson-Newton\n",
    "\n",
    "$$\\beta: \\frac{\\partial l}{\\partial \\beta} = 0$$\n",
    "\n",
    "$$ 0 \\approx \\frac{\\partial l}{\\partial \\beta}_{\\beta = \\beta^{new}} \\approx \\frac{\\partial l}{\\partial \\beta}_{\\beta = \\beta^{old}} + H(\\beta^{new} - \\beta^{old}) $$\n",
    "\n",
    "$$\\beta^{new} = \\beta^{old} - H^{-1}(\\beta^{old})\\frac{\\partial l}{\\partial \\beta}_{\\beta = \\beta^{old}},$$\n",
    "\n",
    "$H(\\beta)$ - macierz drugich pochodnych (Hesjan).\n"
   ]
  },
  {
   "cell_type": "markdown",
   "metadata": {},
   "source": [
    "$$\\frac{\\partial l}{\\partial \\beta} = X'(Y-p), \\ \\ \\ \\ \\ \\ \\ \\ \\ \\ \\ \\  p = (p(x1, \\beta), \\dots, p(x_n, \\beta))'$$\n",
    "$$H(\\beta) = \\frac{\\partial^2 l}{\\partial \\beta \\partial \\beta'} = -X'WX,$$\n",
    "\n",
    "gdzie $W = diag(p(x_1, \\beta)(1-p(x_1, \\beta)), \\dots, p(x_n, \\beta)(1-p(x_n, \\beta)))$"
   ]
  },
  {
   "cell_type": "markdown",
   "metadata": {},
   "source": [
    "$-H > 0$ dodatnio określona, $H^{-1}$ istnieje\n",
    "$$\\beta^{new} = \\beta^{old} - H^{-1}(\\beta^{old})\\frac{\\partial l}{\\partial \\beta}_{\\beta = \\beta^{old}},$$\n",
    "podstawiając\n",
    "$$\\beta^{new} = \\beta^{old} + (X'WX)^{-1}X'(Y-p).$$"
   ]
  },
  {
   "cell_type": "markdown",
   "metadata": {},
   "source": [
    "### Zadanie 5\n",
    "---\n",
    "Przygotuj funkcję `optimize`, która wykorzystując algorytm IRLS będzie optymalizować rozwiązani w modelu regresji logistycznej."
   ]
  },
  {
   "cell_type": "code",
   "execution_count": 11,
   "metadata": {},
   "outputs": [],
   "source": [
    "def optimize(epoch = 10):\n",
    "\n",
    "# wektor początkowy dla bet\n",
    "betas = ...\n",
    "# wektor do zapisywania funkcji straty\n",
    "losses = []\n",
    "    for e in range(epoch):\n",
    "    ...\n",
    "\n",
    "\n",
    "\n"
   ]
  },
  {
   "cell_type": "markdown",
   "metadata": {},
   "source": [
    "### Zadanie 6\n",
    "---\n",
    "Przygotuj klasę `LogisticRegression`, która będzie się składała z funkcji z wcześniejszych zadań. Dodatkowo dopisz fukcję `fit`, `predict_proba` i `predict`."
   ]
  },
  {
   "cell_type": "code",
   "execution_count": null,
   "metadata": {},
   "outputs": [],
   "source": [
    "class LogisticRegression:\n",
    "    def __init__(self):\n",
    "        pass\n",
    "    def fit(self, X, y):\n",
    "\n",
    "\n",
    "\n",
    "    def optimize(self, epoch=10):\n",
    "\n",
    "\n",
    "\n",
    "    def predict(self, X_test, thres=0.5):\n",
    "\n",
    "\n",
    "\n",
    "    def predict_proba(self, X_test):\n",
    "\n",
    "\n",
    "\n",
    "    def transform_X(self, X):\n",
    "\n",
    "\n",
    "\n",
    "    def transform_y(self, y):\n",
    "\n",
    "\n",
    "\n",
    "    def cross_entropy_loss(self, y_true, y_pred, clip_val=1e-10):\n",
    "\n",
    "\n",
    "\n",
    "    def sigmoid(self, x):"
   ]
  },
  {
   "cell_type": "code",
   "execution_count": null,
   "metadata": {},
   "outputs": [],
   "source": []
  },
  {
   "cell_type": "markdown",
   "metadata": {},
   "source": [
    "### Zadanie 7*\n",
    "-----\n",
    "Przygotuj model regresji logistycznej jako sieć neuronowa używając pakietu `Keras`."
   ]
  },
  {
   "cell_type": "code",
   "execution_count": null,
   "metadata": {},
   "outputs": [],
   "source": []
  }
 ],
 "metadata": {
  "kernelspec": {
   "display_name": "base",
   "language": "python",
   "name": "python3"
  },
  "language_info": {
   "codemirror_mode": {
    "name": "ipython",
    "version": 3
   },
   "file_extension": ".py",
   "mimetype": "text/x-python",
   "name": "python",
   "nbconvert_exporter": "python",
   "pygments_lexer": "ipython3",
   "version": "3.11.4"
  }
 },
 "nbformat": 4,
 "nbformat_minor": 2
}
