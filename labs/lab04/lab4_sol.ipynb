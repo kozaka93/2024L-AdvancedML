{
 "cells": [
  {
   "cell_type": "markdown",
   "metadata": {},
   "source": [
    "### Zaawansowane Metody Uczenia Maszynowego"
   ]
  },
  {
   "cell_type": "markdown",
   "metadata": {},
   "source": [
    "[Problem ekspoludjącego gradientu](https://en.wikipedia.org/wiki/Vanishing_gradient_problem)"
   ]
  },
  {
   "cell_type": "markdown",
   "metadata": {},
   "source": [
    "#### Laboratorium 4"
   ]
  },
  {
   "cell_type": "markdown",
   "metadata": {},
   "source": [
    "### Implementacja modelu regresji logistycznej z IRLS"
   ]
  },
  {
   "cell_type": "code",
   "execution_count": 1,
   "metadata": {},
   "outputs": [],
   "source": [
    "from sklearn.datasets import make_classification\n",
    "from numpy.linalg import inv\n",
    "import pandas as pd\n",
    "import numpy as np\n",
    "import matplotlib.pyplot as plt\n",
    "\n",
    "X, y = make_classification(random_state=42, n_samples=1000, n_features=8)"
   ]
  },
  {
   "cell_type": "markdown",
   "metadata": {},
   "source": [
    "### Zadanie 1\n",
    "----\n",
    "Przygotuj funkcję `sigmoid`."
   ]
  },
  {
   "cell_type": "code",
   "execution_count": 2,
   "metadata": {},
   "outputs": [],
   "source": [
    "def sigmoid(x):\n",
    "    return 1 / (1 + np.exp(-x))"
   ]
  },
  {
   "cell_type": "markdown",
   "metadata": {},
   "source": [
    "### Zadanie 2\n",
    "---\n",
    "Przygotuj funkcję `cross_entropy_loss`."
   ]
  },
  {
   "cell_type": "code",
   "execution_count": 3,
   "metadata": {},
   "outputs": [],
   "source": [
    "def cross_entropy_loss(y_true, y_pred, clip_val = 1e-10):\n",
    "    y_pred = np.clip(y_pred, clip_val, 1 -clip_val)\n",
    "    loss = np.multiply(y_true, np.log(y_pred))\n",
    "    total_loss = -np.sum(loss, axis = 0)\n",
    "    return total_loss\n"
   ]
  },
  {
   "cell_type": "markdown",
   "metadata": {},
   "source": [
    "### Zadanie 3\n",
    "----\n",
    "Przygotuj funkcję `transform_X`, która dla danej macierzy X doda pierwszą kolumnę zawierającą 1."
   ]
  },
  {
   "cell_type": "code",
   "execution_count": 4,
   "metadata": {},
   "outputs": [],
   "source": [
    "def transform_X(X):\n",
    "    X = np.array(X)\n",
    "    X = np.insert(X, 0, np.ones((X.shape[0])), axis = 1)\n",
    "    return X\n",
    "    "
   ]
  },
  {
   "cell_type": "markdown",
   "metadata": {},
   "source": [
    "### Zadanie 4\n",
    "---\n",
    "Przygotuj funkcję `transform_y`, która przekształci wektor y na tablicę array."
   ]
  },
  {
   "cell_type": "code",
   "execution_count": 5,
   "metadata": {},
   "outputs": [],
   "source": [
    "def transform_y(y):\n",
    "    y = np.array(y)\n",
    "    y = y.reshape((y.shape[0], -1))\n",
    "    return y\n"
   ]
  },
  {
   "cell_type": "markdown",
   "metadata": {},
   "source": [
    "### Iteratively Reweighted Least Squares (IRLS/IWLS)\n",
    "*maximum likelihood method*\n",
    "\n",
    "Używając metody Raphson-Newton\n",
    "\n",
    "$$\\beta: \\frac{\\partial l}{\\partial \\beta} = 0$$\n",
    "\n",
    "$$ 0 \\approx \\frac{\\partial l}{\\partial \\beta}_{\\beta = \\beta^{new}} \\approx \\frac{\\partial l}{\\partial \\beta}_{\\beta = \\beta^{old}} + H(\\beta^{new} - \\beta^{old}) $$\n",
    "\n",
    "$$\\beta^{new} = \\beta^{old} - H^{-1}(\\beta^{old})\\frac{\\partial l}{\\partial \\beta}_{\\beta = \\beta^{old}},$$\n",
    "\n",
    "$H(\\beta)$ - macierz drugich pochodnych (Hesjan).\n"
   ]
  },
  {
   "cell_type": "markdown",
   "metadata": {},
   "source": [
    "$$\\frac{\\partial l}{\\partial \\beta} = X'(Y-p), \\ \\ \\ \\ \\ \\ \\ \\ \\ \\ \\ \\  p = (p(x1, \\beta), \\dots, p(x_n, \\beta))'$$\n",
    "$$H(\\beta) = \\frac{\\partial^2 l}{\\partial \\beta \\partial \\beta'} = -X'WX,$$\n",
    "\n",
    "gdzie $W = diag(p(x_1, \\beta)(1-p(x_1, \\beta)), \\dots, p(x_n, \\beta)(1-p(x_n, \\beta)))$"
   ]
  },
  {
   "cell_type": "markdown",
   "metadata": {},
   "source": [
    "$-H > 0$ dodatnio określona, $H^{-1}$ istnieje\n",
    "$$\\beta^{new} = \\beta^{old} - H^{-1}(\\beta^{old})\\frac{\\partial l}{\\partial \\beta}_{\\beta = \\beta^{old}},$$\n",
    "podstawiając\n",
    "$$\\beta^{new} = \\beta^{old} + (X'WX)^{-1}X'(Y-p).$$"
   ]
  },
  {
   "cell_type": "markdown",
   "metadata": {},
   "source": [
    "### Zadanie 5\n",
    "---\n",
    "Przygotuj funkcję `optimize`, która wykorzystując algorytm IRLS będzie optymalizować rozwiązani w modelu regresji logistycznej."
   ]
  },
  {
   "cell_type": "code",
   "execution_count": 6,
   "metadata": {},
   "outputs": [],
   "source": [
    "def optimize(X, y, epoch = 10):\n",
    "\n",
    "    X = transform_X(X)\n",
    "    y = transform_y(y)\n",
    "\n",
    "    # wektor początkowy dla bet\n",
    "    betas = np.zeros((X.shape[1],1))\n",
    "\n",
    "    # wektor do zapisywania funkcji straty\n",
    "    losses = []\n",
    "    for e in range(epoch):\n",
    "        y_hat = sigmoid(np.matmul(X, betas))\n",
    "        W = np.diag(np.ravel(y_hat*(1-y_hat)))\n",
    "        grad = np.matmul(X.T, (y_hat-y))\n",
    "        hessian = np.matmul(np.matmul(X.T, W), X) + 0.001*np.eye(X.shape[1])\n",
    "        betas -= np.matmul(inv(hessian), grad)\n",
    "\n",
    "        loss = cross_entropy_loss(y, sigmoid(np.matmul(X, betas)))\n",
    "        losses.append(loss)\n",
    "\n",
    "\n",
    "    coef = betas[1:]\n",
    "    intercept = betas[0]\n",
    "    \n",
    "    return coef, intercept, losses"
   ]
  },
  {
   "cell_type": "markdown",
   "metadata": {},
   "source": [
    "### Zadanie 6\n",
    "---\n",
    "Przygotuj klasę `LogisticRegression`, która będzie się składała z funkcji z wcześniejszych zadań. Dodatkowo dopisz fukcję `fit`, `predict_proba` i `predict`."
   ]
  },
  {
   "cell_type": "code",
   "execution_count": 7,
   "metadata": {},
   "outputs": [],
   "source": [
    "class LogisticRegression:\n",
    "    def __init__(self):\n",
    "        pass\n",
    "    def fit(self, X, y):\n",
    "        self.X = self.transform_X(X)\n",
    "        self.y = self.transform_y(y)\n",
    "        self.N,self.P = self.X.shape\n",
    "        self.optimize()\n",
    "\n",
    "    def optimize(self, epoch = 10):\n",
    "\n",
    "        # wektor początkowy dla bet\n",
    "        betas = np.zeros((self.P,1))\n",
    "\n",
    "        # wektor do zapisywania funkcji straty\n",
    "        losses = []\n",
    "        for e in range(epoch):\n",
    "            y_hat = self.sigmoid(np.matmul(self.X, betas))\n",
    "            W = np.diag(np.ravel(y_hat*(1-y_hat)))\n",
    "            grad = np.matmul(self.X.T, (y_hat-self.y))\n",
    "            hessian = np.matmul(np.matmul(self.X.T, W), self.X) + 0.001*np.eye(self.P)\n",
    "            betas -= np.matmul(inv(hessian), grad)\n",
    "\n",
    "            loss = self.cross_entropy_loss(self.y, self.sigmoid(np.matmul(self.X, betas)))\n",
    "            losses.append(loss)\n",
    "\n",
    "        self.coef = betas[1:]\n",
    "        self.intercept = betas[0]\n",
    "        self.losses = losses\n",
    "        \n",
    "    def predict(self, X, thres=0.5):\n",
    "        X = np.array(X)\n",
    "        y_pred= self.sigmoid(np.matmul(X,self.coef) + self.intercept)\n",
    "        return np.where(y_pred > thres, 1, 0)\n",
    "        \n",
    "    def predict_proba(self, X):\n",
    "        X = np.array(X)\n",
    "        return self.sigmoid(np.matmul(X,self.coef) + self.intercept)\n",
    "    \n",
    "    def transform_X(self, X):\n",
    "        X = np.array(X)\n",
    "        X = np.insert(X, 0, np.ones((X.shape[0])), axis = 1)\n",
    "        return X\n",
    "    \n",
    "    def transform_y(self, y):\n",
    "        y = np.array(y)\n",
    "        y = y.reshape((y.shape[0], -1))\n",
    "        return y\n",
    "\n",
    "    def cross_entropy_loss(self, y_true, y_pred, clip_val = 1e-10):\n",
    "        y_pred = np.clip(y_pred, clip_val, 1 -clip_val)\n",
    "        loss = np.multiply(y_true, np.log(y_pred))\n",
    "        total_loss = -np.sum(loss, axis = 0)\n",
    "        return total_loss\n",
    "\n",
    "    def sigmoid(self, x):\n",
    "        return 1 / (1 + np.exp(-x))"
   ]
  },
  {
   "cell_type": "markdown",
   "metadata": {},
   "source": [
    "### Działanie klasy *LogisticRegression*"
   ]
  },
  {
   "cell_type": "code",
   "execution_count": 8,
   "metadata": {},
   "outputs": [],
   "source": [
    "from sklearn.model_selection import train_test_split\n",
    "X_train, X_test, y_train, y_test = train_test_split(X, y, test_size=0.25)"
   ]
  },
  {
   "cell_type": "code",
   "execution_count": 9,
   "metadata": {},
   "outputs": [],
   "source": [
    "LR_model = LogisticRegression()\n",
    "LR_model.fit(X_train,y_train)"
   ]
  },
  {
   "cell_type": "code",
   "execution_count": 10,
   "metadata": {},
   "outputs": [
    {
     "data": {
      "text/plain": [
       "array([0.21996782])"
      ]
     },
     "execution_count": 10,
     "metadata": {},
     "output_type": "execute_result"
    }
   ],
   "source": [
    "LR_model.intercept"
   ]
  },
  {
   "cell_type": "code",
   "execution_count": 11,
   "metadata": {},
   "outputs": [
    {
     "data": {
      "text/plain": [
       "array([[-0.03975911],\n",
       "       [ 0.00997589],\n",
       "       [-0.4274332 ],\n",
       "       [-0.71704661],\n",
       "       [-0.6362002 ],\n",
       "       [-0.0276373 ],\n",
       "       [ 1.57059313],\n",
       "       [ 0.04991876]])"
      ]
     },
     "execution_count": 11,
     "metadata": {},
     "output_type": "execute_result"
    }
   ],
   "source": [
    "LR_model.coef"
   ]
  },
  {
   "cell_type": "code",
   "execution_count": 12,
   "metadata": {},
   "outputs": [
    {
     "data": {
      "text/plain": [
       "Text(0.5, 1.0, 'Funkcja straty')"
      ]
     },
     "execution_count": 12,
     "metadata": {},
     "output_type": "execute_result"
    },
    {
     "data": {
      "image/png": "[encoded data removed]",
      "text/plain": [
       "<Figure size 640x480 with 1 Axes>"
      ]
     },
     "metadata": {},
     "output_type": "display_data"
    }
   ],
   "source": [
    "plt.plot(range(10), LR_model.losses)\n",
    "plt.title('Funkcja straty')\n"
   ]
  },
  {
   "cell_type": "markdown",
   "metadata": {},
   "source": [
    "### Zadanie 7*\n",
    "-----\n",
    "Przygotuj model regresji logistycznej jako sieć neuronowa używając pakietu `Keras`."
   ]
  },
  {
   "cell_type": "code",
   "execution_count": null,
   "metadata": {},
   "outputs": [],
   "source": []
  }
 ],
 "metadata": {
  "kernelspec": {
   "display_name": "base",
   "language": "python",
   "name": "python3"
  },
  "language_info": {
   "codemirror_mode": {
    "name": "ipython",
    "version": 3
   },
   "file_extension": ".py",
   "mimetype": "text/x-python",
   "name": "python",
   "nbconvert_exporter": "python",
   "pygments_lexer": "ipython3",
   "version": "3.11.4"
  }
 },
 "nbformat": 4,
 "nbformat_minor": 2
}
