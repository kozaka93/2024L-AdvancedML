{
 "cells": [
  {
   "cell_type": "markdown",
   "metadata": {},
   "source": [
    "### Zaawansowane Metody Uczenia Maszynowego"
   ]
  },
  {
   "cell_type": "markdown",
   "metadata": {},
   "source": [
    "#### Laboratorium 8"
   ]
  },
  {
   "cell_type": "markdown",
   "metadata": {},
   "source": [
    "Pakiet *dalex*"
   ]
  },
  {
   "cell_type": "markdown",
   "metadata": {},
   "source": [
    "GitHub\n",
    "https://github.com/ModelOriented/DALEX\n",
    "\n",
    "Dokumentacja\n",
    "https://dalex.drwhy.ai/python/api/\n",
    "\n",
    "Przykład użycia\n",
    "https://dalex.drwhy.ai/python-dalex-titanic.html"
   ]
  },
  {
   "cell_type": "code",
   "execution_count": 3,
   "metadata": {},
   "outputs": [
    {
     "name": "stderr",
     "output_type": "stream",
     "text": [
      "c:\\Users\\AnnA\\anaconda3\\Lib\\site-packages\\paramiko\\transport.py:219: CryptographyDeprecationWarning: Blowfish has been deprecated\n",
      "  \"class\": algorithms.Blowfish,\n"
     ]
    }
   ],
   "source": [
    "import dalex as dx"
   ]
  },
  {
   "cell_type": "markdown",
   "metadata": {},
   "source": [
    "### Zadanie 1\n",
    "---\n",
    "Na podstawie danych o wycenie nieruchomości przygotuj:\n",
    "\n",
    "- przynajmniej 3 różne modele (modele, które mają różną konstrukcję - na przykład regresja liniowa, drzewo decyzyjne oraz komietet modeli)\n",
    "\n",
    "- wykorzystując pakiet `dalex` oraz metodę permutacyjnych ważności zmiennych oraz krzywe PDP zbadaj ważność zmiennych, oceń które z nich są kluczowe przy wycenie nieruchomości\n",
    "\n",
    "- wykorzystując wiedzę z wsześniejszego punktu przygotuj model z ograniczoną liczbą zmiennych, czy mimo znaczącego ograniczenia zmiennych \"mniejszy\" model osiąga nadal dobrą jakość predykcyjną? \n",
    "\n",
    "- przetestuj metody lokalne na wybranych nieruchmościach (najlepiej wybrać takie, gdzie nasz model się myli najbardziej i takie, których bład predykcji jest mały)"
   ]
  },
  {
   "cell_type": "markdown",
   "metadata": {},
   "source": [
    "Dane: https://github.com/mini-pw/2023Z-DataVisualizationTechniques/tree/main/homeworks/hw1"
   ]
  },
  {
   "cell_type": "code",
   "execution_count": null,
   "metadata": {},
   "outputs": [],
   "source": []
  },
  {
   "cell_type": "code",
   "execution_count": null,
   "metadata": {},
   "outputs": [],
   "source": []
  },
  {
   "cell_type": "code",
   "execution_count": null,
   "metadata": {},
   "outputs": [],
   "source": []
  }
 ],
 "metadata": {
  "kernelspec": {
   "display_name": "base",
   "language": "python",
   "name": "python3"
  },
  "language_info": {
   "codemirror_mode": {
    "name": "ipython",
    "version": 3
   },
   "file_extension": ".py",
   "mimetype": "text/x-python",
   "name": "python",
   "nbconvert_exporter": "python",
   "pygments_lexer": "ipython3",
   "version": "3.11.4"
  }
 },
 "nbformat": 4,
 "nbformat_minor": 2
}
